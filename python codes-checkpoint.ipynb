{
 "cells": [
  {
   "cell_type": "code",
   "execution_count": 1,
   "id": "89b89c9d",
   "metadata": {},
   "outputs": [
    {
     "data": {
      "text/plain": [
       "25"
      ]
     },
     "execution_count": 1,
     "metadata": {},
     "output_type": "execute_result"
    }
   ],
   "source": [
    "5+5\n",
    "5*5"
   ]
  },
  {
   "cell_type": "code",
   "execution_count": 1,
   "id": "c5191aa4",
   "metadata": {},
   "outputs": [
    {
     "name": "stdout",
     "output_type": "stream",
     "text": [
      "hello world\n"
     ]
    }
   ],
   "source": [
    "print(\"hello world\")"
   ]
  },
  {
   "cell_type": "code",
   "execution_count": 14,
   "id": "559baccd",
   "metadata": {},
   "outputs": [
    {
     "name": "stdout",
     "output_type": "stream",
     "text": [
      "hello world!\n",
      "its wonderful.\n"
     ]
    }
   ],
   "source": [
    "print(\"hello world!\\nits wonderful.\")"
   ]
  },
  {
   "cell_type": "code",
   "execution_count": 7,
   "id": "a937065e",
   "metadata": {},
   "outputs": [
    {
     "data": {
      "text/plain": [
       "12"
      ]
     },
     "execution_count": 7,
     "metadata": {},
     "output_type": "execute_result"
    }
   ],
   "source": [
    "6+6"
   ]
  },
  {
   "cell_type": "code",
   "execution_count": 57,
   "id": "74570ac2",
   "metadata": {},
   "outputs": [
    {
     "name": "stdout",
     "output_type": "stream",
     "text": [
      "hello world32\n"
     ]
    }
   ],
   "source": [
    "var1=\"hello world\"\n",
    "var2=\"32\"\n",
    "var3=4\n",
    "var4=34.6\n",
    "print(var1+var2)"
   ]
  },
  {
   "cell_type": "code",
   "execution_count": 55,
   "id": "ff62c518",
   "metadata": {},
   "outputs": [
    {
     "name": "stdout",
     "output_type": "stream",
     "text": [
      "84\n",
      "hello world\n"
     ]
    }
   ],
   "source": [
    "var1=52\n",
    "var2=32\n",
    "var3=4\n",
    "var4=34.6\n",
    "print(int(var1)+int(var2))\n",
    "print(\"hello world\")"
   ]
  },
  {
   "cell_type": "code",
   "execution_count": 52,
   "id": "010ba5a9",
   "metadata": {},
   "outputs": [
    {
     "name": "stdout",
     "output_type": "stream",
     "text": [
      "5232\n",
      "hello world\n",
      "hello world\n",
      "hello world\n",
      "hello world\n",
      "hello world\n",
      "hello world\n",
      "hello world\n",
      "hello world\n",
      "hello world\n",
      "hello world\n",
      "hello world\n",
      "hello world\n",
      "hello world\n",
      "hello world\n",
      "hello world\n",
      "hello world\n",
      "hello world\n",
      "hello world\n",
      "hello world\n",
      "hello world\n",
      "\n"
     ]
    }
   ],
   "source": [
    "var1=52\n",
    "var2=32\n",
    "var3=4\n",
    "var4=34.6\n",
    "print(100*int(var1)+int(var2))\n",
    "print(20*\"hello world\\n\")"
   ]
  },
  {
   "cell_type": "code",
   "execution_count": 54,
   "id": "a81e40a9",
   "metadata": {},
   "outputs": [
    {
     "name": "stdout",
     "output_type": "stream",
     "text": [
      "8400\n",
      "hello world\n",
      "hello world\n",
      "hello world\n",
      "hello world\n",
      "hello world\n",
      "hello world\n",
      "hello world\n",
      "hello world\n",
      "hello world\n",
      "hello world\n",
      "hello world\n",
      "hello world\n",
      "hello world\n",
      "hello world\n",
      "hello world\n",
      "hello world\n",
      "hello world\n",
      "hello world\n",
      "hello world\n",
      "hello world\n",
      "\n"
     ]
    }
   ],
   "source": [
    "var1=52\n",
    "var2=32\n",
    "var3=4\n",
    "var4=34.6\n",
    "print(100*(int(var1)+int(var2)))\n",
    "print(20*\"hello world\\n\")"
   ]
  },
  {
   "cell_type": "code",
   "execution_count": 24,
   "id": "fc55923d",
   "metadata": {},
   "outputs": [
    {
     "name": "stdout",
     "output_type": "stream",
     "text": [
      "enter two numbers\n",
      "34\n",
      "34\n",
      "your numbers is 68\n"
     ]
    }
   ],
   "source": [
    "print(\"enter two numbers\")\n",
    "h1=input()\n",
    "h2=input()\n",
    "print(\"your numbers is\",int(h1)+int(h2))"
   ]
  },
  {
   "cell_type": "code",
   "execution_count": 27,
   "id": "0ad921b6",
   "metadata": {},
   "outputs": [
    {
     "name": "stdout",
     "output_type": "stream",
     "text": [
      "enter two numbers\n",
      "76\n",
      "98\n",
      "your numbers is 7698\n"
     ]
    }
   ],
   "source": [
    "print(\"enter two numbers\")\n",
    "h1=input()\n",
    "h2=input()\n",
    "print(\"your numbers is\",h1+h2)"
   ]
  },
  {
   "cell_type": "code",
   "execution_count": 84,
   "id": "8b6a73c8",
   "metadata": {},
   "outputs": [
    {
     "name": "stdout",
     "output_type": "stream",
     "text": [
      "tokyo olympics 2020\n",
      "19\n"
     ]
    }
   ],
   "source": [
    "mystr=\"tokyo olympics 2020\"\n",
    "print(mystr[::])\n",
    "print(len(mystr))"
   ]
  },
  {
   "cell_type": "code",
   "execution_count": 49,
   "id": "79b69884",
   "metadata": {},
   "outputs": [
    {
     "name": "stdout",
     "output_type": "stream",
     "text": [
      "0 p\n"
     ]
    }
   ],
   "source": [
    "mystr=\"tokyo olympics 2020\"\n",
    "print(mystr[:6:-4])"
   ]
  },
  {
   "cell_type": "code",
   "execution_count": 59,
   "id": "3bdd4c5b",
   "metadata": {},
   "outputs": [
    {
     "name": "stdout",
     "output_type": "stream",
     "text": [
      "2\n"
     ]
    }
   ],
   "source": [
    "a=2\n",
    "b=a\n",
    "temp=b\n",
    "print(temp)"
   ]
  },
  {
   "cell_type": "code",
   "execution_count": 79,
   "id": "a9ff4a89",
   "metadata": {},
   "outputs": [
    {
     "name": "stdout",
     "output_type": "stream",
     "text": [
      "n\n"
     ]
    }
   ],
   "source": [
    "x=0\n",
    "y=6\n",
    "if(x+y==10):  \n",
    " print(\"y\")\n",
    "else:\n",
    " print(\"n\")"
   ]
  },
  {
   "cell_type": "code",
   "execution_count": 83,
   "id": "6bea1405",
   "metadata": {},
   "outputs": [
    {
     "name": "stdout",
     "output_type": "stream",
     "text": [
      "enter the number33\n",
      "check wheather the number is even or odd\n",
      "the number is odd\n"
     ]
    }
   ],
   "source": [
    " \n",
    "no=int(input(\"enter the number\"))\n",
    "print(\"check wheather the number is even or odd\")\n",
    "if(no%2==0):\n",
    " print(\"the number is even\")\n",
    "else:\n",
    " print(\"the number is odd\")\n"
   ]
  },
  {
   "cell_type": "code",
   "execution_count": 81,
   "id": "c645742e",
   "metadata": {},
   "outputs": [
    {
     "name": "stdout",
     "output_type": "stream",
     "text": [
      "enter no1:3\n",
      "enter no2:3\n",
      "c: 6\n"
     ]
    }
   ],
   "source": [
    "a=int(input(\"enter no1:\"))\n",
    "b=int(input(\"enter no2:\"))\n",
    "c=a+b\n",
    "print(\"c:\",c)"
   ]
  },
  {
   "cell_type": "code",
   "execution_count": null,
   "id": "5952c655",
   "metadata": {},
   "outputs": [],
   "source": []
  }
 ],
 "metadata": {
  "kernelspec": {
   "display_name": "Python 3",
   "language": "python",
   "name": "python3"
  },
  "language_info": {
   "codemirror_mode": {
    "name": "ipython",
    "version": 3
   },
   "file_extension": ".py",
   "mimetype": "text/x-python",
   "name": "python",
   "nbconvert_exporter": "python",
   "pygments_lexer": "ipython3",
   "version": "3.8.8"
  }
 },
 "nbformat": 4,
 "nbformat_minor": 5
}
